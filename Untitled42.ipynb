{
 "cells": [
  {
   "cell_type": "code",
   "execution_count": 3,
   "id": "503103ea-2601-4dce-9c74-b61815b309fc",
   "metadata": {},
   "outputs": [
    {
     "data": {
      "text/html": [
       "<div>\n",
       "<style scoped>\n",
       "    .dataframe tbody tr th:only-of-type {\n",
       "        vertical-align: middle;\n",
       "    }\n",
       "\n",
       "    .dataframe tbody tr th {\n",
       "        vertical-align: top;\n",
       "    }\n",
       "\n",
       "    .dataframe thead th {\n",
       "        text-align: right;\n",
       "    }\n",
       "</style>\n",
       "<table border=\"1\" class=\"dataframe\">\n",
       "  <thead>\n",
       "    <tr style=\"text-align: right;\">\n",
       "      <th></th>\n",
       "      <th>Name</th>\n",
       "      <th>Team</th>\n",
       "      <th>Number</th>\n",
       "      <th>Position</th>\n",
       "      <th>Age</th>\n",
       "      <th>Height</th>\n",
       "      <th>Weight</th>\n",
       "      <th>College</th>\n",
       "      <th>Salary</th>\n",
       "    </tr>\n",
       "  </thead>\n",
       "  <tbody>\n",
       "    <tr>\n",
       "      <th>0</th>\n",
       "      <td>Avery Bradley</td>\n",
       "      <td>Boston Celtics</td>\n",
       "      <td>0</td>\n",
       "      <td>PG</td>\n",
       "      <td>25</td>\n",
       "      <td>06-Feb</td>\n",
       "      <td>180</td>\n",
       "      <td>Texas</td>\n",
       "      <td>7730337.0</td>\n",
       "    </tr>\n",
       "    <tr>\n",
       "      <th>1</th>\n",
       "      <td>Jae Crowder</td>\n",
       "      <td>Boston Celtics</td>\n",
       "      <td>99</td>\n",
       "      <td>SF</td>\n",
       "      <td>25</td>\n",
       "      <td>06-Jun</td>\n",
       "      <td>235</td>\n",
       "      <td>Marquette</td>\n",
       "      <td>6796117.0</td>\n",
       "    </tr>\n",
       "    <tr>\n",
       "      <th>2</th>\n",
       "      <td>John Holland</td>\n",
       "      <td>Boston Celtics</td>\n",
       "      <td>30</td>\n",
       "      <td>SG</td>\n",
       "      <td>27</td>\n",
       "      <td>06-May</td>\n",
       "      <td>205</td>\n",
       "      <td>Boston University</td>\n",
       "      <td>NaN</td>\n",
       "    </tr>\n",
       "    <tr>\n",
       "      <th>3</th>\n",
       "      <td>R.J. Hunter</td>\n",
       "      <td>Boston Celtics</td>\n",
       "      <td>28</td>\n",
       "      <td>SG</td>\n",
       "      <td>22</td>\n",
       "      <td>06-May</td>\n",
       "      <td>185</td>\n",
       "      <td>Georgia State</td>\n",
       "      <td>1148640.0</td>\n",
       "    </tr>\n",
       "    <tr>\n",
       "      <th>4</th>\n",
       "      <td>Jonas Jerebko</td>\n",
       "      <td>Boston Celtics</td>\n",
       "      <td>8</td>\n",
       "      <td>PF</td>\n",
       "      <td>29</td>\n",
       "      <td>06-Oct</td>\n",
       "      <td>231</td>\n",
       "      <td>NaN</td>\n",
       "      <td>5000000.0</td>\n",
       "    </tr>\n",
       "  </tbody>\n",
       "</table>\n",
       "</div>"
      ],
      "text/plain": [
       "            Name            Team  Number Position  Age  Height  Weight  \\\n",
       "0  Avery Bradley  Boston Celtics       0       PG   25  06-Feb     180   \n",
       "1    Jae Crowder  Boston Celtics      99       SF   25  06-Jun     235   \n",
       "2   John Holland  Boston Celtics      30       SG   27  06-May     205   \n",
       "3    R.J. Hunter  Boston Celtics      28       SG   22  06-May     185   \n",
       "4  Jonas Jerebko  Boston Celtics       8       PF   29  06-Oct     231   \n",
       "\n",
       "             College     Salary  \n",
       "0              Texas  7730337.0  \n",
       "1          Marquette  6796117.0  \n",
       "2  Boston University        NaN  \n",
       "3      Georgia State  1148640.0  \n",
       "4                NaN  5000000.0  "
      ]
     },
     "execution_count": 3,
     "metadata": {},
     "output_type": "execute_result"
    }
   ],
   "source": [
    "import pandas as pd\n",
    "import numpy as np\n",
    "import matplotlib.pyplot as plt\n",
    "data = pd.read_csv(r\"C:\\Users\\Akhil\\Desktop\\data\\New folder\\myexcel - myexcel.csv.csv\")\n",
    "data.head()"
   ]
  },
  {
   "cell_type": "code",
   "execution_count": 5,
   "id": "b8e30d3c-707e-4235-a425-5e6aeda8fa3e",
   "metadata": {},
   "outputs": [
    {
     "name": "stdout",
     "output_type": "stream",
     "text": [
      "              Name            Team  Number Position  Age  Height  Weight  \\\n",
      "0    Avery Bradley  Boston Celtics       0       PG   25  06-Feb     180   \n",
      "1      Jae Crowder  Boston Celtics      99       SF   25  06-Jun     235   \n",
      "2     John Holland  Boston Celtics      30       SG   27  06-May     205   \n",
      "3      R.J. Hunter  Boston Celtics      28       SG   22  06-May     185   \n",
      "4    Jonas Jerebko  Boston Celtics       8       PF   29  06-Oct     231   \n",
      "..             ...             ...     ...      ...  ...     ...     ...   \n",
      "453   Shelvin Mack       Utah Jazz       8       PG   26  06-Mar     203   \n",
      "454      Raul Neto       Utah Jazz      25       PG   24  06-Jan     179   \n",
      "455   Tibor Pleiss       Utah Jazz      21        C   26  07-Mar     256   \n",
      "456    Jeff Withey       Utah Jazz      24        C   26     7-0     231   \n",
      "457       Priyanka       Utah Jazz      34        C   25  07-Mar     231   \n",
      "\n",
      "               College     Salary  height  \n",
      "0                Texas  7730337.0     174  \n",
      "1            Marquette  6796117.0     173  \n",
      "2    Boston University        NaN     167  \n",
      "3        Georgia State  1148640.0     180  \n",
      "4                  NaN  5000000.0     179  \n",
      "..                 ...        ...     ...  \n",
      "453             Butler  2433333.0     167  \n",
      "454                NaN   900000.0     150  \n",
      "455                NaN  2900000.0     172  \n",
      "456             Kansas   947276.0     157  \n",
      "457             Kansas   947276.0     162  \n",
      "\n",
      "[458 rows x 10 columns]\n"
     ]
    }
   ],
   "source": [
    "data['height'] = np.random.randint(150, 181, size=len(data))\n",
    "print(data)"
   ]
  },
  {
   "cell_type": "code",
   "execution_count": 9,
   "id": "41fb0169-e677-431d-b65d-760fe4bad2d3",
   "metadata": {},
   "outputs": [
    {
     "name": "stdout",
     "output_type": "stream",
     "text": [
      "Distribution of employees across each team:\n",
      "Team\n",
      "New Orleans Pelicans      4.148472\n",
      "Memphis Grizzlies         3.930131\n",
      "Utah Jazz                 3.493450\n",
      "New York Knicks           3.493450\n",
      "Milwaukee Bucks           3.493450\n",
      "Brooklyn Nets             3.275109\n",
      "Portland Trail Blazers    3.275109\n",
      "Oklahoma City Thunder     3.275109\n",
      "Denver Nuggets            3.275109\n",
      "Washington Wizards        3.275109\n",
      "Miami Heat                3.275109\n",
      "Charlotte Hornets         3.275109\n",
      "Atlanta Hawks             3.275109\n",
      "San Antonio Spurs         3.275109\n",
      "Houston Rockets           3.275109\n",
      "Boston Celtics            3.275109\n",
      "Indiana Pacers            3.275109\n",
      "Detroit Pistons           3.275109\n",
      "Cleveland Cavaliers       3.275109\n",
      "Chicago Bulls             3.275109\n",
      "Sacramento Kings          3.275109\n",
      "Phoenix Suns              3.275109\n",
      "Los Angeles Lakers        3.275109\n",
      "Los Angeles Clippers      3.275109\n",
      "Golden State Warriors     3.275109\n",
      "Toronto Raptors           3.275109\n",
      "Philadelphia 76ers        3.275109\n",
      "Dallas Mavericks          3.275109\n",
      "Orlando Magic             3.056769\n",
      "Minnesota Timberwolves    3.056769\n",
      "Name: count, dtype: float64\n"
     ]
    }
   ],
   "source": [
    "#1 Distribution of employees across each team\n",
    "\n",
    "team_counts = data['Team'].value_counts()\n",
    "team_percentages = (team_counts / len(data)) * 100\n",
    "print(\"Distribution of employees across each team:\")\n",
    "print(team_percentages)"
   ]
  },
  {
   "cell_type": "code",
   "execution_count": 12,
   "id": "87a13b27-f6fa-4bcd-99f0-857ff7142e73",
   "metadata": {},
   "outputs": [
    {
     "name": "stdout",
     "output_type": "stream",
     "text": [
      "Segregation of employees based on their positions:\n",
      "Position\n",
      "SG    102\n",
      "PF    100\n",
      "PG     92\n",
      "SF     85\n",
      "C      79\n",
      "Name: count, dtype: int64\n"
     ]
    }
   ],
   "source": [
    "position_counts = data['Position'].value_counts()\n",
    "print(\"Segregation of employees based on their positions:\")\n",
    "print(position_counts)"
   ]
  },
  {
   "cell_type": "code",
   "execution_count": 14,
   "id": "310e4de4-2868-48f9-9f2d-a972db89914a",
   "metadata": {},
   "outputs": [
    {
     "name": "stdout",
     "output_type": "stream",
     "text": [
      "Predominant age group among employees:\n",
      "(19.999, 30.0]    365\n",
      "(30.0, 40.0]       91\n",
      "(40.0, 50.0]        0\n",
      "(50.0, 60.0]        0\n",
      "Name: count, dtype: int64\n"
     ]
    }
   ],
   "source": [
    "age_groups = data['Age'].value_counts(bins=[20, 30, 40, 50, 60])\n",
    "print(\"Predominant age group among employees:\")\n",
    "print(age_groups)"
   ]
  },
  {
   "cell_type": "code",
   "execution_count": 18,
   "id": "f16daf6d-266f-492e-b8fe-5d5b66bab013",
   "metadata": {},
   "outputs": [
    {
     "name": "stdout",
     "output_type": "stream",
     "text": [
      "Team and position with the highest salary expenditure:\n",
      "('Los Angeles Lakers', 'SF')\n"
     ]
    }
   ],
   "source": [
    "salary_expenditure = data.groupby(['Team', 'Position'])['Salary'].sum()\n",
    "print(\"Team and position with the highest salary expenditure:\")\n",
    "print(salary_expenditure.idxmax())"
   ]
  },
  {
   "cell_type": "code",
   "execution_count": 21,
   "id": "0c97a480-dc23-4028-90df-502f1398dc14",
   "metadata": {},
   "outputs": [
    {
     "name": "stdout",
     "output_type": "stream",
     "text": [
      "Correlation between age and salary:\n",
      "0.21400941226570971\n"
     ]
    }
   ],
   "source": [
    "corr_coef = data['Age'].corr(data['Salary'])\n",
    "print(\"Correlation between age and salary:\")\n",
    "print(corr_coef)"
   ]
  },
  {
   "cell_type": "code",
   "execution_count": 26,
   "id": "821b123a-58b8-4ee9-a876-f8d19550a57b",
   "metadata": {},
   "outputs": [
    {
     "data": {
      "image/png": "[encoded data removed]",
      "text/plain": [
       "<Figure size 800x600 with 1 Axes>"
      ]
     },
     "metadata": {},
     "output_type": "display_data"
    }
   ],
   "source": [
    "# Graphical Representation\n",
    "Team_counts = data['Team'].value_counts()\n",
    "plt.figure(figsize=(8,6))\n",
    "plt.bar(team_counts.index, team_counts.values)\n",
    "plt.xlabel(\"Team\")\n",
    "plt.ylabel(\"Count\")\n",
    "plt.title(\"Distribution of Employees Across Each Team\")\n",
    "plt.show()\n"
   ]
  },
  {
   "cell_type": "code",
   "execution_count": 4,
   "id": "f2eaa5fe-6694-4f99-90fc-1f93f35b996c",
   "metadata": {},
   "outputs": [
    {
     "ename": "NameError",
     "evalue": "name 'plt' is not defined",
     "output_type": "error",
     "traceback": [
      "\u001b[1;31m---------------------------------------------------------------------------\u001b[0m",
      "\u001b[1;31mNameError\u001b[0m                                 Traceback (most recent call last)",
      "Cell \u001b[1;32mIn[4], line 2\u001b[0m\n\u001b[0;32m      1\u001b[0m \u001b[38;5;66;03m# Plot bar charts of salary by team and position\u001b[39;00m\n\u001b[1;32m----> 2\u001b[0m fig, ax \u001b[38;5;241m=\u001b[39m \u001b[43mplt\u001b[49m\u001b[38;5;241m.\u001b[39msubplots(\u001b[38;5;241m1\u001b[39m, \u001b[38;5;241m2\u001b[39m, figsize\u001b[38;5;241m=\u001b[39m(\u001b[38;5;241m12\u001b[39m, \u001b[38;5;241m6\u001b[39m))\n\u001b[0;32m      4\u001b[0m sns\u001b[38;5;241m.\u001b[39mbarplot(x\u001b[38;5;241m=\u001b[39msalary_by_team\u001b[38;5;241m.\u001b[39mindex, y\u001b[38;5;241m=\u001b[39msalary_by_team\u001b[38;5;241m.\u001b[39mvalues, ax\u001b[38;5;241m=\u001b[39max[\u001b[38;5;241m0\u001b[39m])\n\u001b[0;32m      5\u001b[0m ax[\u001b[38;5;241m0\u001b[39m]\u001b[38;5;241m.\u001b[39mset_xlabel(\u001b[38;5;124m'\u001b[39m\u001b[38;5;124mTeam\u001b[39m\u001b[38;5;124m'\u001b[39m)\n",
      "\u001b[1;31mNameError\u001b[0m: name 'plt' is not defined"
     ]
    }
   ],
   "source": [
    "# Plot bar charts of salary by team and position\n",
    "fig, ax = plt.subplots(1, 2, figsize=(12, 6))\n",
    "\n",
    "sns.barplot(x=salary_by_team.index, y=salary_by_team.values, ax=ax[0])\n",
    "ax[0].set_xlabel('Team')\n",
    "ax[0].set_ylabel('Salary Expenditure')\n",
    "ax[0].set_title('Salary Expenditure by Team')\n",
    "\n",
    "sns.barplot(x=salary_by_position.index, y=salary_by_position.values, ax=ax[1])\n",
    "ax[1].set_xlabel('Position')\n",
    "ax[1].set_ylabel('Salary Expenditure')\n",
    "ax[1].set_title('Salary Expenditure by Position')\n",
    "\n",
    "plt.show()"
   ]
  },
  {
   "cell_type": "code",
   "execution_count": null,
   "id": "40cec24e-87bf-4def-b82a-094cc24458ec",
   "metadata": {},
   "outputs": [],
   "source": []
  }
 ],
 "metadata": {
  "kernelspec": {
   "display_name": "Python 3 (ipykernel)",
   "language": "python",
   "name": "python3"
  },
  "language_info": {
   "codemirror_mode": {
    "name": "ipython",
    "version": 3
   },
   "file_extension": ".py",
   "mimetype": "text/x-python",
   "name": "python",
   "nbconvert_exporter": "python",
   "pygments_lexer": "ipython3",
   "version": "3.12.3"
  }
 },
 "nbformat": 4,
 "nbformat_minor": 5
}
